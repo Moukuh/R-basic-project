{
 "cells": [
  {
   "cell_type": "code",
   "execution_count": 1,
   "metadata": {},
   "outputs": [],
   "source": [
    "data(UCBAdmissions)  # load the data"
   ]
  },
  {
   "cell_type": "code",
   "execution_count": 2,
   "metadata": {},
   "outputs": [],
   "source": [
    "?UCBAdmissions   # help page , let us know the dataset better"
   ]
  },
  {
   "cell_type": "code",
   "execution_count": 3,
   "metadata": {},
   "outputs": [
    {
     "data": {
      "text/html": [
       "<ol class=list-inline>\n",
       "\t<li>2</li>\n",
       "\t<li>2</li>\n",
       "\t<li>6</li>\n",
       "</ol>\n"
      ],
      "text/latex": [
       "\\begin{enumerate*}\n",
       "\\item 2\n",
       "\\item 2\n",
       "\\item 6\n",
       "\\end{enumerate*}\n"
      ],
      "text/markdown": [
       "1. 2\n",
       "2. 2\n",
       "3. 6\n",
       "\n",
       "\n"
      ],
      "text/plain": [
       "[1] 2 2 6"
      ]
     },
     "metadata": {},
     "output_type": "display_data"
    }
   ],
   "source": [
    "dim(UCBAdmissions)  # structure of the data"
   ]
  },
  {
   "cell_type": "code",
   "execution_count": 4,
   "metadata": {},
   "outputs": [
    {
     "data": {
      "text/plain": [
       ", , Dept = A\n",
       "\n",
       "          Gender\n",
       "Admit      Male Female\n",
       "  Admitted  512     89\n",
       "  Rejected  313     19\n",
       "\n",
       ", , Dept = B\n",
       "\n",
       "          Gender\n",
       "Admit      Male Female\n",
       "  Admitted  353     17\n",
       "  Rejected  207      8\n",
       "\n",
       ", , Dept = C\n",
       "\n",
       "          Gender\n",
       "Admit      Male Female\n",
       "  Admitted  120    202\n",
       "  Rejected  205    391\n",
       "\n",
       ", , Dept = D\n",
       "\n",
       "          Gender\n",
       "Admit      Male Female\n",
       "  Admitted  138    131\n",
       "  Rejected  279    244\n",
       "\n",
       ", , Dept = E\n",
       "\n",
       "          Gender\n",
       "Admit      Male Female\n",
       "  Admitted   53     94\n",
       "  Rejected  138    299\n",
       "\n",
       ", , Dept = F\n",
       "\n",
       "          Gender\n",
       "Admit      Male Female\n",
       "  Admitted   22     24\n",
       "  Rejected  351    317\n"
      ]
     },
     "metadata": {},
     "output_type": "display_data"
    }
   ],
   "source": [
    "UCBAdmissions"
   ]
  },
  {
   "cell_type": "code",
   "execution_count": 5,
   "metadata": {},
   "outputs": [
    {
     "data": {
      "text/html": [
       "<dl>\n",
       "\t<dt>$Admit</dt>\n",
       "\t\t<dd><ol class=list-inline>\n",
       "\t<li>'Admitted'</li>\n",
       "\t<li>'Rejected'</li>\n",
       "</ol>\n",
       "</dd>\n",
       "\t<dt>$Gender</dt>\n",
       "\t\t<dd><ol class=list-inline>\n",
       "\t<li>'Male'</li>\n",
       "\t<li>'Female'</li>\n",
       "</ol>\n",
       "</dd>\n",
       "\t<dt>$Dept</dt>\n",
       "\t\t<dd><ol class=list-inline>\n",
       "\t<li>'A'</li>\n",
       "\t<li>'B'</li>\n",
       "\t<li>'C'</li>\n",
       "\t<li>'D'</li>\n",
       "\t<li>'E'</li>\n",
       "\t<li>'F'</li>\n",
       "</ol>\n",
       "</dd>\n",
       "</dl>\n"
      ],
      "text/latex": [
       "\\begin{description}\n",
       "\\item[\\$Admit] \\begin{enumerate*}\n",
       "\\item 'Admitted'\n",
       "\\item 'Rejected'\n",
       "\\end{enumerate*}\n",
       "\n",
       "\\item[\\$Gender] \\begin{enumerate*}\n",
       "\\item 'Male'\n",
       "\\item 'Female'\n",
       "\\end{enumerate*}\n",
       "\n",
       "\\item[\\$Dept] \\begin{enumerate*}\n",
       "\\item 'A'\n",
       "\\item 'B'\n",
       "\\item 'C'\n",
       "\\item 'D'\n",
       "\\item 'E'\n",
       "\\item 'F'\n",
       "\\end{enumerate*}\n",
       "\n",
       "\\end{description}\n"
      ],
      "text/markdown": [
       "$Admit\n",
       ":   1. 'Admitted'\n",
       "2. 'Rejected'\n",
       "\n",
       "\n",
       "\n",
       "$Gender\n",
       ":   1. 'Male'\n",
       "2. 'Female'\n",
       "\n",
       "\n",
       "\n",
       "$Dept\n",
       ":   1. 'A'\n",
       "2. 'B'\n",
       "3. 'C'\n",
       "4. 'D'\n",
       "5. 'E'\n",
       "6. 'F'\n",
       "\n",
       "\n",
       "\n",
       "\n",
       "\n"
      ],
      "text/plain": [
       "$Admit\n",
       "[1] \"Admitted\" \"Rejected\"\n",
       "\n",
       "$Gender\n",
       "[1] \"Male\"   \"Female\"\n",
       "\n",
       "$Dept\n",
       "[1] \"A\" \"B\" \"C\" \"D\" \"E\" \"F\"\n"
      ]
     },
     "metadata": {},
     "output_type": "display_data"
    }
   ],
   "source": [
    "dimnames(UCBAdmissions)  # items within the column"
   ]
  },
  {
   "cell_type": "code",
   "execution_count": 6,
   "metadata": {},
   "outputs": [
    {
     "name": "stdout",
     "output_type": "stream",
     "text": [
      " 'table' num [1:2, 1:2, 1:6] 512 313 89 19 353 207 17 8 120 205 ...\n",
      " - attr(*, \"dimnames\")=List of 3\n",
      "  ..$ Admit : chr [1:2] \"Admitted\" \"Rejected\"\n",
      "  ..$ Gender: chr [1:2] \"Male\" \"Female\"\n",
      "  ..$ Dept  : chr [1:6] \"A\" \"B\" \"C\" \"D\" ...\n"
     ]
    }
   ],
   "source": [
    "str(UCBAdmissions)    # structure of data is explained well here- Its a 3 way table (2x2x6)"
   ]
  },
  {
   "cell_type": "code",
   "execution_count": 7,
   "metadata": {},
   "outputs": [
    {
     "data": {
      "text/plain": [
       "          Gender\n",
       "Admit      Male Female\n",
       "  Admitted 1198    557\n",
       "  Rejected 1493   1278"
      ]
     },
     "metadata": {},
     "output_type": "display_data"
    }
   ],
   "source": [
    "UCB.GA <- margin.table(UCBAdmissions, c(1,2))\n",
    "UCB.GA"
   ]
  },
  {
   "cell_type": "code",
   "execution_count": 8,
   "metadata": {},
   "outputs": [
    {
     "data": {
      "text/html": [
       "<table>\n",
       "<thead><tr><th></th><th scope=col>Male</th><th scope=col>Female</th></tr></thead>\n",
       "<tbody>\n",
       "\t<tr><th scope=row>Admitted</th><td>1198</td><td> 557</td></tr>\n",
       "\t<tr><th scope=row>Rejected</th><td>1493</td><td>1278</td></tr>\n",
       "</tbody>\n",
       "</table>\n"
      ],
      "text/latex": [
       "\\begin{tabular}{r|ll}\n",
       "  & Male & Female\\\\\n",
       "\\hline\n",
       "\tAdmitted & 1198 &  557\\\\\n",
       "\tRejected & 1493 & 1278\\\\\n",
       "\\end{tabular}\n"
      ],
      "text/markdown": [
       "\n",
       "| <!--/--> | Male | Female |\n",
       "|---|---|---|\n",
       "| Admitted | 1198 |  557 |\n",
       "| Rejected | 1493 | 1278 |\n",
       "\n"
      ],
      "text/plain": [
       "          Gender\n",
       "Admit      Male Female\n",
       "  Admitted 1198  557  \n",
       "  Rejected 1493 1278  "
      ]
     },
     "metadata": {},
     "output_type": "display_data"
    }
   ],
   "source": [
    "univ <- apply(UCBAdmissions, c(1,2), sum)\n",
    "univ"
   ]
  },
  {
   "cell_type": "code",
   "execution_count": 9,
   "metadata": {
    "scrolled": true
   },
   "outputs": [
    {
     "data": {
      "text/html": [
       "<table>\n",
       "<thead><tr><th></th><th scope=col>Male</th><th scope=col>Female</th></tr></thead>\n",
       "<tbody>\n",
       "\t<tr><th scope=row>Admitted</th><td>0.4451877</td><td>0.3035422</td></tr>\n",
       "\t<tr><th scope=row>Rejected</th><td>0.5548123</td><td>0.6964578</td></tr>\n",
       "</tbody>\n",
       "</table>\n"
      ],
      "text/latex": [
       "\\begin{tabular}{r|ll}\n",
       "  & Male & Female\\\\\n",
       "\\hline\n",
       "\tAdmitted & 0.4451877 & 0.3035422\\\\\n",
       "\tRejected & 0.5548123 & 0.6964578\\\\\n",
       "\\end{tabular}\n"
      ],
      "text/markdown": [
       "\n",
       "| <!--/--> | Male | Female |\n",
       "|---|---|---|\n",
       "| Admitted | 0.4451877 | 0.3035422 |\n",
       "| Rejected | 0.5548123 | 0.6964578 |\n",
       "\n"
      ],
      "text/plain": [
       "          Gender\n",
       "Admit      Male      Female   \n",
       "  Admitted 0.4451877 0.3035422\n",
       "  Rejected 0.5548123 0.6964578"
      ]
     },
     "metadata": {},
     "output_type": "display_data"
    }
   ],
   "source": [
    "prop.table(univ, 2) # proportion of male and female accepted and rejected"
   ]
  },
  {
   "cell_type": "code",
   "execution_count": 10,
   "metadata": {},
   "outputs": [
    {
     "data": {
      "text/plain": [
       "Number of cases in table: 4526 \n",
       "Number of factors: 3 \n",
       "Test for independence of all factors:\n",
       "\tChisq = 2000.3, df = 16, p-value = 0"
      ]
     },
     "metadata": {},
     "output_type": "display_data"
    }
   ],
   "source": [
    "summary(UCBAdmissions)"
   ]
  },
  {
   "cell_type": "code",
   "execution_count": 11,
   "metadata": {},
   "outputs": [
    {
     "name": "stderr",
     "output_type": "stream",
     "text": [
      "Warning message:\n",
      "\"package 'vcd' was built under R version 3.6.3\"Loading required package: grid\n"
     ]
    }
   ],
   "source": [
    "library(vcd)"
   ]
  },
  {
   "cell_type": "code",
   "execution_count": 12,
   "metadata": {},
   "outputs": [],
   "source": [
    "library(grid)"
   ]
  },
  {
   "cell_type": "code",
   "execution_count": 13,
   "metadata": {},
   "outputs": [
    {
     "data": {
      "image/png": "[encoded data removed]",
      "text/plain": [
       "plot without title"
      ]
     },
     "metadata": {},
     "output_type": "display_data"
    }
   ],
   "source": [
    "UCB <- aperm(UCBAdmissions, c(2,1,3)) \n",
    "fourfold(margin.table(UCB, c(1, 2)))   # fourfold plot"
   ]
  },
  {
   "cell_type": "code",
   "execution_count": 14,
   "metadata": {},
   "outputs": [
    {
     "data": {
      "text/plain": [
       ", , Dept = A\n",
       "\n",
       "          Gender\n",
       "Admit       Male Female\n",
       "  Admitted 62.06  82.41\n",
       "  Rejected 37.94  17.59\n",
       "\n",
       ", , Dept = B\n",
       "\n",
       "          Gender\n",
       "Admit       Male Female\n",
       "  Admitted 63.04  68.00\n",
       "  Rejected 36.96  32.00\n",
       "\n",
       ", , Dept = C\n",
       "\n",
       "          Gender\n",
       "Admit       Male Female\n",
       "  Admitted 36.92  34.06\n",
       "  Rejected 63.08  65.94\n",
       "\n",
       ", , Dept = D\n",
       "\n",
       "          Gender\n",
       "Admit       Male Female\n",
       "  Admitted 33.09  34.93\n",
       "  Rejected 66.91  65.07\n",
       "\n",
       ", , Dept = E\n",
       "\n",
       "          Gender\n",
       "Admit       Male Female\n",
       "  Admitted 27.75  23.92\n",
       "  Rejected 72.25  76.08\n",
       "\n",
       ", , Dept = F\n",
       "\n",
       "          Gender\n",
       "Admit       Male Female\n",
       "  Admitted  5.90   7.04\n",
       "  Rejected 94.10  92.96\n"
      ]
     },
     "metadata": {},
     "output_type": "display_data"
    }
   ],
   "source": [
    "round(100*prop.table(UCBAdmissions,margin=2:3),2)   # Admit proportion according to department"
   ]
  },
  {
   "cell_type": "code",
   "execution_count": 15,
   "metadata": {},
   "outputs": [
    {
     "data": {
      "text/plain": [
       "        Dept\n",
       "Gender       A     B     C     D     E     F\n",
       "  Male   62.06 63.04 36.92 33.09 27.75  5.90\n",
       "  Female 82.41 68.00 34.06 34.93 23.92  7.04"
      ]
     },
     "metadata": {},
     "output_type": "display_data"
    }
   ],
   "source": [
    "round(100*prop.table(UCBAdmissions,margin=2:3)[\"Admitted\",,],2) # brief proportion rate of male and female with department"
   ]
  },
  {
   "cell_type": "code",
   "execution_count": 16,
   "metadata": {},
   "outputs": [
    {
     "data": {
      "image/png": "[encoded data removed]",
      "text/plain": [
       "plot without title"
      ]
     },
     "metadata": {},
     "output_type": "display_data"
    }
   ],
   "source": [
    "fourfold(UCBAdmissions, mfrow=c(2,3)) # threeway plot"
   ]
  },
  {
   "cell_type": "code",
   "execution_count": 17,
   "metadata": {},
   "outputs": [
    {
     "data": {
      "text/plain": [
       "     Gender     Male            Female         \n",
       "     Admit  Admitted Rejected Admitted Rejected\n",
       "Dept                                           \n",
       "A               0.62     0.38     0.82     0.18\n",
       "B               0.63     0.37     0.68     0.32\n",
       "C               0.37     0.63     0.34     0.66\n",
       "D               0.33     0.67     0.35     0.65\n",
       "E               0.28     0.72     0.24     0.76\n",
       "F               0.06     0.94     0.07     0.93"
      ]
     },
     "metadata": {},
     "output_type": "display_data"
    }
   ],
   "source": [
    "ftable(round(prop.table(UCBAdmissions, c(2,3)), 2),row.vars=\"Dept\", col.vars = c(\"Gender\", \"Admit\"))"
   ]
  },
  {
   "cell_type": "code",
   "execution_count": 18,
   "metadata": {},
   "outputs": [
    {
     "data": {
      "image/png": "[encoded data removed]",
      "text/plain": [
       "plot without title"
      ]
     },
     "metadata": {},
     "output_type": "display_data"
    }
   ],
   "source": [
    "cotabplot(aperm(UCBAdmissions, c(2,1,3)), panel = cotab_coindep, shade = TRUE,legend = FALSE,panel_args = list(type = \"assoc\", margins = c(2,1,1,2), varnames = FALSE))"
   ]
  },
  {
   "cell_type": "code",
   "execution_count": 19,
   "metadata": {},
   "outputs": [
    {
     "data": {
      "image/png": "[encoded data removed]",
      "text/plain": [
       "plot without title"
      ]
     },
     "metadata": {},
     "output_type": "display_data"
    }
   ],
   "source": [
    "UCB_G <- structable(Gender ~ Dept + Admit, data =UCBAdmissions)\n",
    "cotabplot(UCB_G)"
   ]
  },
  {
   "cell_type": "code",
   "execution_count": 20,
   "metadata": {},
   "outputs": [
    {
     "data": {
      "image/png": "[encoded data removed]",
      "text/plain": [
       "Plot with title \"Students admissions at UC Berkeley\""
      ]
     },
     "metadata": {},
     "output_type": "display_data"
    }
   ],
   "source": [
    "mosaicplot(apply(UCBAdmissions, c(1,2), sum), main=\"Students admissions at UC Berkeley\")"
   ]
  }
 ],
 "metadata": {
  "kernelspec": {
   "display_name": "R",
   "language": "R",
   "name": "ir"
  },
  "language_info": {
   "codemirror_mode": "r",
   "file_extension": ".r",
   "mimetype": "text/x-r-source",
   "name": "R",
   "pygments_lexer": "r",
   "version": "3.6.1"
  }
 },
 "nbformat": 4,
 "nbformat_minor": 4
}
